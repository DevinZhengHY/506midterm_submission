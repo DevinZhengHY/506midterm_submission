{
 "cells": [
  {
   "cell_type": "markdown",
   "id": "58088f61",
   "metadata": {},
   "source": [
    "##  Important parts of the code are in \"feature_extraction.py\" and that's how I get the datasets I am using. \n",
    "\n"
   ]
  },
  {
   "cell_type": "markdown",
   "id": "6edb5774",
   "metadata": {},
   "source": [
    "# Final decision, Use TF-IDF and KNN to train the model"
   ]
  },
  {
   "cell_type": "code",
   "execution_count": 134,
   "id": "e1572e3c",
   "metadata": {},
   "outputs": [],
   "source": [
    "import pandas as pd"
   ]
  },
  {
   "cell_type": "code",
   "execution_count": 135,
   "id": "49b81472",
   "metadata": {},
   "outputs": [],
   "source": [
    "#saving data to files for later use\n",
    "df = pd.read_csv('./data/X_train.csv')"
   ]
  },
  {
   "cell_type": "code",
   "execution_count": 136,
   "id": "b198096f",
   "metadata": {},
   "outputs": [],
   "source": [
    "#create the labels\n",
    "train_labels = df[['Score']]"
   ]
  },
  {
   "cell_type": "code",
   "execution_count": 137,
   "id": "c347dc45",
   "metadata": {},
   "outputs": [],
   "source": [
    "train_labels.to_csv(\"./data/Y_train.csv\", index=False)"
   ]
  },
  {
   "cell_type": "code",
   "execution_count": 138,
   "id": "6d9b93a8",
   "metadata": {},
   "outputs": [],
   "source": [
    "#Reading the files and implement them\n",
    "from sklearn.metrics import mean_squared_error\n",
    "from sklearn.model_selection import StratifiedKFold\n",
    "from sklearn.feature_extraction.text import TfidfVectorizer\n",
    "import pickle as pk\n",
    "import pandas as pd\n",
    "import numpy as np\n",
    "import random\n",
    "import time\n",
    "\n",
    "trainX = pd.read_csv('./data/X_train.csv')\n",
    "trainY = pd.read_csv('./data/Y_train.csv')\n",
    "testX = pd.read_csv('./data/X_test.csv')\n",
    "\n",
    "######Below is just for record######\n",
    "\n",
    "# testX[['Summary']] = testX[['Summary']].fillna('')\n",
    "\n",
    "# testX = testX[:30000]\n",
    "\n",
    "# trainX = trainX[:10000]\n",
    "# trainY = trainY[:10000]\n",
    "\n",
    "\n",
    "# trainX['Context'] = trainX.apply(lambda x: str(x['ProductId']) + ' [SEP] ' + str(x['UserId']) + ' [SEP] ' + str(x['Summary']) + ' [SEP] ' + str(x['Text']), axis=1)\n",
    "# trainY['Context'] = trainY.apply(lambda x: str(x['ProductId']) + ' [SEP] ' + str(x['UserId']) + ' [SEP] ' + str(x['Summary']) + ' [SEP] ' + str(x['Text']), axis=1)\n",
    "\n",
    "# trainX['context'] = trainX.apply(lambda x: str(x['Summary']) + ' [SEP] ' + str(x['Text']), axis=1)\n",
    "# testX['context'] = trainX.apply(lambda x:  str(x['Summary']) + ' [SEP] ' + str(x['Text']), axis=1)\n",
    "\n",
    "# str(x['ProductId'])  + ' [SEP] ' + str(x['UserId']) + ' [SEP] ' +\n",
    "\n",
    "# train_text = trainX['context'].values.tolist()\n",
    "# test_text = testX['context'].values.tolist()\n",
    "# context = train_text + test_text\n",
    "# print(len(train_text), len(test_text))"
   ]
  },
  {
   "cell_type": "code",
   "execution_count": 139,
   "id": "8f4df2dc",
   "metadata": {},
   "outputs": [],
   "source": [
    "#### Here is the where I set the subsets of the datasets and test for better solutions####\n",
    "\n",
    "testX = testX\n",
    "trainX = trainX[:50000]\n",
    "trainY = trainY[:50000]"
   ]
  },
  {
   "cell_type": "code",
   "execution_count": 140,
   "id": "c47b3d8b",
   "metadata": {
    "scrolled": true
   },
   "outputs": [
    {
     "name": "stdout",
     "output_type": "stream",
     "text": [
      "50000 300000\n",
      "350000\n"
     ]
    }
   ],
   "source": [
    "train_text = trainX['Context'].values.tolist()\n",
    "test_text = testX['Context'].values.tolist()\n",
    "context = train_text + test_text\n",
    "print(len(train_text), len(test_text))\n",
    "print(len(context))"
   ]
  },
  {
   "cell_type": "code",
   "execution_count": 143,
   "id": "93d33157",
   "metadata": {},
   "outputs": [],
   "source": [
    "####vectorizer both train text and test text, consisting of summary and text columns from dataset####\n",
    "vectorizer = TfidfVectorizer(sublinear_tf=True, stop_words = 'english',lowercase = True, ngram_range=(1, 2))\n",
    "\n",
    "# sublinear_tf=True\n",
    "\n",
    "features = vectorizer.fit_transform(context)\n",
    "terms = vectorizer.get_feature_names()\n",
    "\n",
    "train_reviews = features[:trainY.shape[0]]\n",
    "train_labels = trainY.values.reshape((-1,))\n",
    "test_reviews = features[trainY.shape[0]:]\n",
    "test_id = testX['Id'].values\n",
    "\n",
    "# temp = train_labels.dtype\n",
    "# train_labels = train_labels.astype(int)\n",
    "\n",
    "\n"
   ]
  },
  {
   "cell_type": "code",
   "execution_count": 144,
   "id": "70ff5a09",
   "metadata": {},
   "outputs": [
    {
     "name": "stdout",
     "output_type": "stream",
     "text": [
      "(50000, 12082133)\n",
      "(300000, 12082133)\n",
      "(50000,)\n",
      "(300000,)\n",
      "Class labels: [1. 2. 3. 4. 5.]\n"
     ]
    }
   ],
   "source": [
    "####Checking that our tfidf and feature extractions are working properly, and double check the shape of our sets####\n",
    "print(train_reviews.shape)\n",
    "print(test_reviews.shape)\n",
    "print(train_labels.shape)\n",
    "print(test_id.shape)\n",
    "print(\"Class labels:\", np.unique(train_labels))"
   ]
  },
  {
   "cell_type": "code",
   "execution_count": null,
   "id": "92355eae",
   "metadata": {},
   "outputs": [],
   "source": [
    "#Train KNN model and predict on whole test sets\n",
    "knn = KNeighborsClassifier(n_neighbors=11)\n",
    "model = knn.fit(train_reviews, train_labels)\n",
    "\n",
    "result = model.predict(test_reviews)\n",
    "\n",
    "submission = pd.DataFrame({\"Id\": test_id, \"Score\": result})\n",
    "submission.to_csv(\"./data/submission.csv\", index=False)\n"
   ]
  },
  {
   "cell_type": "code",
   "execution_count": null,
   "id": "02fbf5d4",
   "metadata": {},
   "outputs": [],
   "source": [
    "submission.head()"
   ]
  },
  {
   "cell_type": "code",
   "execution_count": null,
   "id": "c6fe321c",
   "metadata": {},
   "outputs": [],
   "source": [
    "import time\n",
    "time.ctime() # 'Mon Oct 18 13:35:29 2010'\n",
    "time.strftime('%l:%M%p %Z on %b %d, %Y') # ' 1:36PM EDT on Oct 18, 2010'\n",
    "time.strftime('%l:%M%p %z on %b %d, %Y') # ' 1:36PM EST on Oct 18, 2010'"
   ]
  },
  {
   "cell_type": "code",
   "execution_count": null,
   "id": "4cf868a8",
   "metadata": {},
   "outputs": [],
   "source": []
  },
  {
   "cell_type": "markdown",
   "id": "2e6a60ab",
   "metadata": {},
   "source": [
    "# Local validation and parameter tunning\n",
    "Below are the codes that I used for local validation. In this section, I used KFold on a small proportion of trainning set to select proper K in KNN model."
   ]
  },
  {
   "cell_type": "code",
   "execution_count": 145,
   "id": "9ba9abaa",
   "metadata": {},
   "outputs": [],
   "source": [
    "#split the data sets for Local validation and parameter tunning\n",
    "from sklearn.model_selection import train_test_split\n",
    "X_tn, X_tt, Y_tn, Y_tt = train_test_split(\n",
    "        train_reviews, train_labels, test_size=1/5.0, random_state=1\n",
    "    )"
   ]
  },
  {
   "cell_type": "code",
   "execution_count": 17,
   "id": "0e27cef5",
   "metadata": {},
   "outputs": [
    {
     "name": "stdout",
     "output_type": "stream",
     "text": [
      "This is iter number  1\n",
      "This is iter number  2\n",
      "This is iter number  3\n",
      "This is iter number  4\n",
      "This is iter number  5\n",
      "This is iter number  6\n",
      "This is iter number  7\n",
      "This is iter number  8\n",
      "This is iter number  9\n",
      "This is iter number  10\n",
      "This is iter number  11\n",
      "This is iter number  12\n",
      "This is iter number  13\n",
      "This is iter number  14\n",
      "This is iter number  15\n",
      "This is iter number  16\n",
      "This is iter number  17\n",
      "This is iter number  18\n",
      "This is iter number  19\n",
      "This is iter number  20\n"
     ]
    }
   ],
   "source": [
    "#store the accuracy of each iteration\n",
    "#This is for testing \n",
    "from sklearn.neighbors import KNeighborsClassifier\n",
    "from sklearn.decomposition import PCA\n",
    "from sklearn.pipeline import make_pipeline\n",
    "from sklearn.datasets import fetch_openml\n",
    "from sklearn.metrics import confusion_matrix, accuracy_score\n",
    "train_acc = []\n",
    "test_acc = []\n",
    "\n",
    "\n",
    "for i in range(1,21):\n",
    "#     pca = PCA(n_components=1000)\n",
    "    print('This is iter number ', i)\n",
    "    knn = KNeighborsClassifier(n_neighbors=i)\n",
    "#     model = make_pipeline(pca, knn)\n",
    "    model = knn.fit(X_tn, Y_tn)\n",
    "    \n",
    "    Y_train_predictions = model.predict(X_tn)\n",
    "    Y_test_predictions = model.predict(X_tt)\n",
    "    \n",
    "    acc_train = accuracy_score(Y_tn, Y_train_predictions)\n",
    "    acc_test = accuracy_score(Y_tt, Y_test_predictions)\n",
    "    \n",
    "    train_acc.append(acc_train)\n",
    "    test_acc.append(acc_test)"
   ]
  },
  {
   "cell_type": "code",
   "execution_count": 21,
   "id": "e9baf1a7",
   "metadata": {},
   "outputs": [
    {
     "data": {
      "text/plain": [
       "<function matplotlib.pyplot.show(close=None, block=None)>"
      ]
     },
     "execution_count": 21,
     "metadata": {},
     "output_type": "execute_result"
    },
    {
     "data": {
      "image/png": "[encoded data removed]",
      "text/plain": [
       "<Figure size 432x288 with 1 Axes>"
      ]
     },
     "metadata": {
      "needs_background": "light"
     },
     "output_type": "display_data"
    }
   ],
   "source": [
    "import pickle\n",
    "import numpy as np\n",
    "import seaborn as sns\n",
    "import matplotlib.pyplot as plt\n",
    "list_k = list(range(1,21))\n",
    "plt.plot(list_k, train_acc, color='r', label='train')\n",
    "plt.plot(list_k, test_acc, color='b', label='test')\n",
    "plt.legend()\n",
    "plt.xlabel(\"Number of K\")\n",
    "plt.ylabel(\"Accuracy of training and testing set\")\n",
    "plt.title(\"KNN model for K in range of 1 to 20 with trainning size of 10000\")\n",
    "plt.show"
   ]
  },
  {
   "cell_type": "code",
   "execution_count": null,
   "id": "31258a7d",
   "metadata": {},
   "outputs": [],
   "source": []
  },
  {
   "cell_type": "code",
   "execution_count": 146,
   "id": "e7f163c2",
   "metadata": {},
   "outputs": [
    {
     "name": "stdout",
     "output_type": "stream",
     "text": [
      "done!\n"
     ]
    },
    {
     "data": {
      "text/plain": [
       "<function matplotlib.pyplot.show(close=None, block=None)>"
      ]
     },
     "execution_count": 146,
     "metadata": {},
     "output_type": "execute_result"
    },
    {
     "data": {
      "image/png": "[encoded data removed]",
      "text/plain": [
       "<Figure size 432x288 with 1 Axes>"
      ]
     },
     "metadata": {
      "needs_background": "light"
     },
     "output_type": "display_data"
    }
   ],
   "source": [
    "#Local validation for KNN using KFold\n",
    "from sklearn.model_selection import cross_val_score\n",
    "from sklearn.model_selection import cross_validate\n",
    "\n",
    "knn = KNeighborsClassifier(n_neighbors=11)\n",
    "model = knn.fit(X_tn, Y_tn)\n",
    "\n",
    "cv_train_acc = []\n",
    "    \n",
    "cv_train_scores = cross_val_score(knn, X_tt, Y_tt, cv=10)\n",
    "print('done!')\n",
    "# cv_train_acc.append(np.mean(cv_train_scores))\n",
    "\n",
    "list_k = list(range(10))\n",
    "plt.plot(list_k, cv_train_scores, color='r', label='test')\n",
    "plt.legend()\n",
    "plt.xlabel(\"Number of K\")\n",
    "plt.ylabel(\"Accuracy of testing set\")\n",
    "plt.title(\"KFold of 10 testing KNN model on split test sets\")\n",
    "plt.show"
   ]
  },
  {
   "cell_type": "code",
   "execution_count": 31,
   "id": "86ba025a",
   "metadata": {},
   "outputs": [],
   "source": [
    "\n",
    "\n",
    "\n"
   ]
  },
  {
   "cell_type": "code",
   "execution_count": 32,
   "id": "e0c23794",
   "metadata": {},
   "outputs": [],
   "source": []
  },
  {
   "cell_type": "markdown",
   "id": "8421077b",
   "metadata": {},
   "source": [
    "# Below are the other option solution(SVM) I tried during exploration. "
   ]
  },
  {
   "cell_type": "code",
   "execution_count": 118,
   "id": "1e191a41",
   "metadata": {},
   "outputs": [],
   "source": [
    "trainX = pd.read_csv('./data/X_train.csv')\n",
    "trainY = pd.read_csv('./data/Y_train.csv')\n",
    "testX = pd.read_csv('./data/X_test.csv')"
   ]
  },
  {
   "cell_type": "code",
   "execution_count": 119,
   "id": "e8c69d67",
   "metadata": {},
   "outputs": [],
   "source": [
    "trainX = trainX[:500000]\n",
    "trainY = trainY[:500000]"
   ]
  },
  {
   "cell_type": "code",
   "execution_count": 120,
   "id": "b291ea6f",
   "metadata": {},
   "outputs": [
    {
     "name": "stdout",
     "output_type": "stream",
     "text": [
      "500000 300000\n",
      "800000\n"
     ]
    }
   ],
   "source": [
    "train_text = trainX['Context'].values.tolist()\n",
    "test_text = testX['Context'].values.tolist()\n",
    "context = train_text + test_text\n",
    "print(len(train_text), len(test_text))\n",
    "print(len(context))"
   ]
  },
  {
   "cell_type": "code",
   "execution_count": 121,
   "id": "a338aea4",
   "metadata": {},
   "outputs": [],
   "source": [
    "####vectorizer both train text and test text, consisting of summary and text columns from dataset####\n",
    "vectorizer = TfidfVectorizer(sublinear_tf=True, stop_words = 'english',lowercase = True, ngram_range=(1, 2))\n",
    "\n",
    "\n",
    "features = vectorizer.fit_transform(context)\n",
    "terms = vectorizer.get_feature_names()\n",
    "\n",
    "train_reviews = features[:trainY.shape[0]]\n",
    "train_labels = trainY.values.reshape((-1,))\n",
    "test_reviews = features[trainY.shape[0]:]\n",
    "test_id = testX['Id'].values\n",
    "\n",
    "\n",
    "\n"
   ]
  },
  {
   "cell_type": "code",
   "execution_count": 122,
   "id": "73e211f9",
   "metadata": {},
   "outputs": [],
   "source": [
    "from sklearn.model_selection import train_test_split\n",
    "X_tn, X_tt, Y_tn, Y_tt = train_test_split(\n",
    "        train_reviews, train_labels, test_size=1/5.0, random_state=1\n",
    "    )"
   ]
  },
  {
   "cell_type": "code",
   "execution_count": 123,
   "id": "3da9fdf0",
   "metadata": {},
   "outputs": [
    {
     "name": "stderr",
     "output_type": "stream",
     "text": [
      "/opt/anaconda3/lib/python3.8/site-packages/sklearn/svm/_base.py:985: ConvergenceWarning: Liblinear failed to converge, increase the number of iterations.\n",
      "  warnings.warn(\"Liblinear failed to converge, increase \"\n"
     ]
    },
    {
     "data": {
      "text/plain": [
       "LinearSVC(loss='hinge')"
      ]
     },
     "execution_count": 123,
     "metadata": {},
     "output_type": "execute_result"
    }
   ],
   "source": [
    "#Train SVM model and fit the data\n",
    "from sklearn.svm import SVC\n",
    "from sklearn.metrics import roc_auc_score\n",
    "from sklearn import svm\n",
    "# clf = SVC(probability=True, kernel='rbf') ###This is not the right model for large datasets\n",
    "clf = svm.LinearSVC(loss='hinge')\n",
    "clf.fit(X_tn, Y_tn)"
   ]
  },
  {
   "cell_type": "code",
   "execution_count": 131,
   "id": "69f70395",
   "metadata": {},
   "outputs": [
    {
     "name": "stdout",
     "output_type": "stream",
     "text": [
      "done!\n"
     ]
    },
    {
     "data": {
      "text/plain": [
       "<function matplotlib.pyplot.show(close=None, block=None)>"
      ]
     },
     "execution_count": 131,
     "metadata": {},
     "output_type": "execute_result"
    },
    {
     "data": {
      "image/png": "[encoded data removed]",
      "text/plain": [
       "<Figure size 432x288 with 1 Axes>"
      ]
     },
     "metadata": {
      "needs_background": "light"
     },
     "output_type": "display_data"
    }
   ],
   "source": [
    "# KFold and trainsplit to get local validation\n",
    "from sklearn.model_selection import cross_val_score\n",
    "from sklearn.model_selection import cross_validate\n",
    "\n",
    "cv_train_acc = []\n",
    "    \n",
    "cv_train_scores = cross_val_score(clf, X_tt, Y_tt, cv=10)\n",
    "print('done!')\n",
    "# cv_train_acc.append(np.mean(cv_train_scores))\n",
    "\n",
    "list_k = list(range(10))\n",
    "plt.plot(list_k, cv_train_scores, color='r', label='test')\n",
    "plt.legend()\n",
    "plt.xlabel(\"Number of K\")\n",
    "plt.ylabel(\"Accuracy of testing set\")\n",
    "plt.title(\"KFold of 10 testing SVM model on split test sets\")\n",
    "plt.show"
   ]
  },
  {
   "cell_type": "code",
   "execution_count": 125,
   "id": "24a02da4",
   "metadata": {},
   "outputs": [],
   "source": [
    "result = clf.predict(test_reviews)"
   ]
  },
  {
   "cell_type": "code",
   "execution_count": 126,
   "id": "07b8d200",
   "metadata": {},
   "outputs": [],
   "source": [
    "submission = pd.DataFrame({\"Id\": test_id, \"Score\": result})"
   ]
  },
  {
   "cell_type": "code",
   "execution_count": 127,
   "id": "07538dba",
   "metadata": {},
   "outputs": [
    {
     "data": {
      "text/html": [
       "<div>\n",
       "<style scoped>\n",
       "    .dataframe tbody tr th:only-of-type {\n",
       "        vertical-align: middle;\n",
       "    }\n",
       "\n",
       "    .dataframe tbody tr th {\n",
       "        vertical-align: top;\n",
       "    }\n",
       "\n",
       "    .dataframe thead th {\n",
       "        text-align: right;\n",
       "    }\n",
       "</style>\n",
       "<table border=\"1\" class=\"dataframe\">\n",
       "  <thead>\n",
       "    <tr style=\"text-align: right;\">\n",
       "      <th></th>\n",
       "      <th>Id</th>\n",
       "      <th>Score</th>\n",
       "    </tr>\n",
       "  </thead>\n",
       "  <tbody>\n",
       "    <tr>\n",
       "      <th>0</th>\n",
       "      <td>5</td>\n",
       "      <td>5.0</td>\n",
       "    </tr>\n",
       "    <tr>\n",
       "      <th>1</th>\n",
       "      <td>11</td>\n",
       "      <td>4.0</td>\n",
       "    </tr>\n",
       "    <tr>\n",
       "      <th>2</th>\n",
       "      <td>17</td>\n",
       "      <td>4.0</td>\n",
       "    </tr>\n",
       "    <tr>\n",
       "      <th>3</th>\n",
       "      <td>46</td>\n",
       "      <td>5.0</td>\n",
       "    </tr>\n",
       "    <tr>\n",
       "      <th>4</th>\n",
       "      <td>47</td>\n",
       "      <td>2.0</td>\n",
       "    </tr>\n",
       "  </tbody>\n",
       "</table>\n",
       "</div>"
      ],
      "text/plain": [
       "   Id  Score\n",
       "0   5    5.0\n",
       "1  11    4.0\n",
       "2  17    4.0\n",
       "3  46    5.0\n",
       "4  47    2.0"
      ]
     },
     "execution_count": 127,
     "metadata": {},
     "output_type": "execute_result"
    }
   ],
   "source": [
    "submission.head()"
   ]
  },
  {
   "cell_type": "code",
   "execution_count": 128,
   "id": "17a2ef5c",
   "metadata": {},
   "outputs": [],
   "source": [
    "submission.to_csv(\"./data/submission.csv\", index=False)"
   ]
  },
  {
   "cell_type": "code",
   "execution_count": 129,
   "id": "62a71030",
   "metadata": {},
   "outputs": [
    {
     "data": {
      "text/plain": [
       "' 3:17PM -0400 on Mar 23, 2022'"
      ]
     },
     "execution_count": 129,
     "metadata": {},
     "output_type": "execute_result"
    }
   ],
   "source": [
    "time.ctime()\n",
    "time.strftime('%l:%M%p %Z on %b %d, %Y')\n",
    "time.strftime('%l:%M%p %z on %b %d, %Y')"
   ]
  },
  {
   "cell_type": "code",
   "execution_count": null,
   "id": "9036f7f0",
   "metadata": {},
   "outputs": [],
   "source": []
  }
 ],
 "metadata": {
  "kernelspec": {
   "display_name": "Python 3",
   "language": "python",
   "name": "python3"
  },
  "language_info": {
   "codemirror_mode": {
    "name": "ipython",
    "version": 3
   },
   "file_extension": ".py",
   "mimetype": "text/x-python",
   "name": "python",
   "nbconvert_exporter": "python",
   "pygments_lexer": "ipython3",
   "version": "3.8.8"
  }
 },
 "nbformat": 4,
 "nbformat_minor": 5
}
